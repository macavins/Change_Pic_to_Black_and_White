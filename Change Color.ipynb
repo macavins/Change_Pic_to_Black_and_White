{
 "cells": [
  {
   "cell_type": "code",
   "execution_count": 9,
   "id": "1be59e37",
   "metadata": {},
   "outputs": [],
   "source": [
    "import cv2"
   ]
  },
  {
   "cell_type": "code",
   "execution_count": 12,
   "id": "fb4844e7",
   "metadata": {},
   "outputs": [
    {
     "data": {
      "text/plain": [
       "True"
      ]
     },
     "execution_count": 12,
     "metadata": {},
     "output_type": "execute_result"
    }
   ],
   "source": [
    "image=cv2.imread(\"/home/macavins/Downloads/craiyon_101900_rose.png\")\n",
    "gray_image=cv2.cvtColor(image, cv2.COLOR_BGR2GRAY)\n",
    "inverted=255-gray_image\n",
    "blurred=cv2.GaussianBlur(inverted,(21,21),0)\n",
    "invertedblur = 255-blurred\n",
    "pencilsketch=cv2.divide(gray_image, invertedblur, scale=256.0)\n",
    "\n",
    "# save the file\n",
    "cv2.imwrite(\"/home/macavins/Downloads/craiyon_101900_rose_colored.png\", pencilsketch)"
   ]
  },
  {
   "cell_type": "code",
   "execution_count": null,
   "id": "4a7fcec5",
   "metadata": {},
   "outputs": [],
   "source": []
  }
 ],
 "metadata": {
  "kernelspec": {
   "display_name": "Python 3 (ipykernel)",
   "language": "python",
   "name": "python3"
  },
  "language_info": {
   "codemirror_mode": {
    "name": "ipython",
    "version": 3
   },
   "file_extension": ".py",
   "mimetype": "text/x-python",
   "name": "python",
   "nbconvert_exporter": "python",
   "pygments_lexer": "ipython3",
   "version": "3.10.12"
  }
 },
 "nbformat": 4,
 "nbformat_minor": 5
}
